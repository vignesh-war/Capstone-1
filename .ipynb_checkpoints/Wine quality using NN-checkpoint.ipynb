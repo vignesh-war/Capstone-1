{
 "cells": [
  {
   "cell_type": "code",
   "execution_count": 1,
   "metadata": {},
   "outputs": [],
   "source": [
    "import numpy as np\n",
    "import pandas as pd\n",
    "import matplotlib.pyplot as plt\n",
    "\n",
    "from sklearn.model_selection import train_test_split\n",
    "\n",
    "from sklearn.preprocessing import MinMaxScaler\n",
    "\n",
    "%matplotlib inline"
   ]
  },
  {
   "cell_type": "code",
   "execution_count": 16,
   "metadata": {},
   "outputs": [],
   "source": [
    "# All Activation Functions and their Transfer Derivatives\n",
    "\n",
    "# 1. Sigmoid / Logistic Function\n",
    "def sigmoid(x):\n",
    "    return 1 / (1 + np.exp(-x))\n",
    "\n",
    "def dsigmoid(x):\n",
    "    return x * (1-x)\n",
    "\n",
    "# 2. Rectified Linear Unit Function\n",
    "def relu(x):\n",
    "     return abs(x) * (x > 0)\n",
    "\n",
    "def drelu(x):\n",
    "     return 1. * (x > 0.)\n",
    "\n",
    "# 3. Leaky-Relu Functions\n",
    "def lrelu(x):\n",
    "    return np.where(x > 0., x, x * 0.01)\n",
    "\n",
    "def dlrelu(x):\n",
    "    dx = np.ones_like(x)\n",
    "    dx[x < 0.] = 0.01\n",
    "    return dx\n",
    "\n",
    "# 4. Hyperbolic Tan Function\n",
    "def tanh(x):\n",
    "    return np.tanh(x)\n",
    "\n",
    "def dtanh(x):\n",
    "    return 1.0 - (np.power(np.tanh(x),2))"
   ]
  },
  {
   "cell_type": "code",
   "execution_count": 17,
   "metadata": {},
   "outputs": [],
   "source": [
    "def feed_forward(data_in, w0,w1,w2, b):\n",
    "  \n",
    "    layer0 = data_in\n",
    "    layer1 = sigmoid(np.dot(layer0, w0))\n",
    "    layer2 = sigmoid(np.dot(layer1, w1))\n",
    "    layer3 = np.dot(layer2, w2) + b\n",
    "\n",
    "    return layer0, layer1, layer2, layer3"
   ]
  },
  {
   "cell_type": "code",
   "execution_count": 18,
   "metadata": {},
   "outputs": [],
   "source": [
    "\n",
    "def back_propogation(i, layer0, layer1, layer2, layer3, actual_y, w0,w1,w2, b, learning_rate):\n",
    "  \n",
    "    \n",
    "    op_delta = layer3 - actual_y\n",
    "    dh3 = np.dot(layer2.T, op_delta)\n",
    "    \n",
    "    l2_error = op_delta.dot(w2.T)\n",
    "    l2_delta = l2_error * dsigmoid(layer2)\n",
    "    dh2 = np.dot(layer1.T, l2_delta)\n",
    "    \n",
    "    l1_error = l2_delta.dot(w1.T)\n",
    "    l1_delta = l1_error * dsigmoid(layer1)\n",
    "    dh1 = np.dot(layer0.T, l1_delta)\n",
    "    \n",
    "    w2 = w2 - (learning_rate * dh3)\n",
    "    w1 = w1 - (learning_rate * dh2)\n",
    "    w0 = w0 - (learning_rate * dh1)\n",
    "    b = b - (learning_rate * np.mean(op_delta))\n",
    "   \n",
    "    if i%10==0 and (i!=0):\n",
    "        loss = np.mean(np.power(layer3-actual_y, 2))\n",
    "        loss_curve.append(loss)\n",
    "        iters.append(int(i))\n",
    "        \n",
    "        if i%100 == 0:\n",
    "            print(\"\\n\", int(i), loss)\n",
    "\n",
    "        \n",
    "    return w0,w1,w2,b"
   ]
  },
  {
   "cell_type": "code",
   "execution_count": 19,
   "metadata": {},
   "outputs": [
    {
     "data": {
      "text/html": [
       "<div>\n",
       "<style scoped>\n",
       "    .dataframe tbody tr th:only-of-type {\n",
       "        vertical-align: middle;\n",
       "    }\n",
       "\n",
       "    .dataframe tbody tr th {\n",
       "        vertical-align: top;\n",
       "    }\n",
       "\n",
       "    .dataframe thead th {\n",
       "        text-align: right;\n",
       "    }\n",
       "</style>\n",
       "<table border=\"1\" class=\"dataframe\">\n",
       "  <thead>\n",
       "    <tr style=\"text-align: right;\">\n",
       "      <th></th>\n",
       "      <th>fixed acidity</th>\n",
       "      <th>volatile acidity</th>\n",
       "      <th>citric acid</th>\n",
       "      <th>residual sugar</th>\n",
       "      <th>chlorides</th>\n",
       "      <th>free sulfur dioxide</th>\n",
       "      <th>total sulfur dioxide</th>\n",
       "      <th>density</th>\n",
       "      <th>pH</th>\n",
       "      <th>sulphates</th>\n",
       "      <th>alcohol</th>\n",
       "      <th>quality</th>\n",
       "    </tr>\n",
       "  </thead>\n",
       "  <tbody>\n",
       "    <tr>\n",
       "      <th>0</th>\n",
       "      <td>7.0</td>\n",
       "      <td>0.27</td>\n",
       "      <td>0.36</td>\n",
       "      <td>20.7</td>\n",
       "      <td>0.045</td>\n",
       "      <td>45.0</td>\n",
       "      <td>170.0</td>\n",
       "      <td>1.0010</td>\n",
       "      <td>3.00</td>\n",
       "      <td>0.45</td>\n",
       "      <td>8.8</td>\n",
       "      <td>6</td>\n",
       "    </tr>\n",
       "    <tr>\n",
       "      <th>1</th>\n",
       "      <td>6.3</td>\n",
       "      <td>0.30</td>\n",
       "      <td>0.34</td>\n",
       "      <td>1.6</td>\n",
       "      <td>0.049</td>\n",
       "      <td>14.0</td>\n",
       "      <td>132.0</td>\n",
       "      <td>0.9940</td>\n",
       "      <td>3.30</td>\n",
       "      <td>0.49</td>\n",
       "      <td>9.5</td>\n",
       "      <td>6</td>\n",
       "    </tr>\n",
       "    <tr>\n",
       "      <th>2</th>\n",
       "      <td>8.1</td>\n",
       "      <td>0.28</td>\n",
       "      <td>0.40</td>\n",
       "      <td>6.9</td>\n",
       "      <td>0.050</td>\n",
       "      <td>30.0</td>\n",
       "      <td>97.0</td>\n",
       "      <td>0.9951</td>\n",
       "      <td>3.26</td>\n",
       "      <td>0.44</td>\n",
       "      <td>10.1</td>\n",
       "      <td>6</td>\n",
       "    </tr>\n",
       "    <tr>\n",
       "      <th>3</th>\n",
       "      <td>7.2</td>\n",
       "      <td>0.23</td>\n",
       "      <td>0.32</td>\n",
       "      <td>8.5</td>\n",
       "      <td>0.058</td>\n",
       "      <td>47.0</td>\n",
       "      <td>186.0</td>\n",
       "      <td>0.9956</td>\n",
       "      <td>3.19</td>\n",
       "      <td>0.40</td>\n",
       "      <td>9.9</td>\n",
       "      <td>6</td>\n",
       "    </tr>\n",
       "    <tr>\n",
       "      <th>4</th>\n",
       "      <td>7.2</td>\n",
       "      <td>0.23</td>\n",
       "      <td>0.32</td>\n",
       "      <td>8.5</td>\n",
       "      <td>0.058</td>\n",
       "      <td>47.0</td>\n",
       "      <td>186.0</td>\n",
       "      <td>0.9956</td>\n",
       "      <td>3.19</td>\n",
       "      <td>0.40</td>\n",
       "      <td>9.9</td>\n",
       "      <td>6</td>\n",
       "    </tr>\n",
       "  </tbody>\n",
       "</table>\n",
       "</div>"
      ],
      "text/plain": [
       "   fixed acidity  volatile acidity  citric acid  residual sugar  chlorides  \\\n",
       "0            7.0              0.27         0.36            20.7      0.045   \n",
       "1            6.3              0.30         0.34             1.6      0.049   \n",
       "2            8.1              0.28         0.40             6.9      0.050   \n",
       "3            7.2              0.23         0.32             8.5      0.058   \n",
       "4            7.2              0.23         0.32             8.5      0.058   \n",
       "\n",
       "   free sulfur dioxide  total sulfur dioxide  density    pH  sulphates  \\\n",
       "0                 45.0                 170.0   1.0010  3.00       0.45   \n",
       "1                 14.0                 132.0   0.9940  3.30       0.49   \n",
       "2                 30.0                  97.0   0.9951  3.26       0.44   \n",
       "3                 47.0                 186.0   0.9956  3.19       0.40   \n",
       "4                 47.0                 186.0   0.9956  3.19       0.40   \n",
       "\n",
       "   alcohol  quality  \n",
       "0      8.8        6  \n",
       "1      9.5        6  \n",
       "2     10.1        6  \n",
       "3      9.9        6  \n",
       "4      9.9        6  "
      ]
     },
     "execution_count": 19,
     "metadata": {},
     "output_type": "execute_result"
    }
   ],
   "source": [
    "data=pd.read_csv('winequality-white.csv',sep=';')\n",
    "data.head()"
   ]
  },
  {
   "cell_type": "code",
   "execution_count": 34,
   "metadata": {},
   "outputs": [
    {
     "data": {
      "text/plain": [
       "Index(['fixed acidity', 'volatile acidity', 'citric acid', 'residual sugar',\n",
       "       'chlorides', 'free sulfur dioxide', 'total sulfur dioxide', 'density',\n",
       "       'pH', 'sulphates', 'alcohol', 'quality'],\n",
       "      dtype='object')"
      ]
     },
     "execution_count": 34,
     "metadata": {},
     "output_type": "execute_result"
    }
   ],
   "source": [
    "data.keys()"
   ]
  },
  {
   "cell_type": "code",
   "execution_count": 20,
   "metadata": {},
   "outputs": [],
   "source": [
    "X=pd.DataFrame(data.drop(['quality'],axis=1))"
   ]
  },
  {
   "cell_type": "code",
   "execution_count": 39,
   "metadata": {},
   "outputs": [],
   "source": [
    "data = pd.read_csv('winequality-white.csv',sep=';')"
   ]
  },
  {
   "cell_type": "code",
   "execution_count": 21,
   "metadata": {},
   "outputs": [],
   "source": [
    "Y=pd.DataFrame(data['quality'])"
   ]
  },
  {
   "cell_type": "code",
   "execution_count": 22,
   "metadata": {},
   "outputs": [],
   "source": [
    "X=(X-X.min())/(X.max()-X.min())\n",
    "Y=(Y-Y.min())/(Y.max()-Y.min())"
   ]
  },
  {
   "cell_type": "code",
   "execution_count": 23,
   "metadata": {},
   "outputs": [],
   "source": [
    "x=np.array(X)\n",
    "y=np.array(Y)"
   ]
  },
  {
   "cell_type": "code",
   "execution_count": 24,
   "metadata": {},
   "outputs": [],
   "source": [
    "x_train,x_test,y_train,y_test=train_test_split(x,y,test_size=0.2)"
   ]
  },
  {
   "cell_type": "code",
   "execution_count": 25,
   "metadata": {},
   "outputs": [],
   "source": [
    "epochs = 10000\n",
    "loss_curve=[]\n",
    "iters=[]"
   ]
  },
  {
   "cell_type": "code",
   "execution_count": 26,
   "metadata": {},
   "outputs": [],
   "source": [
    "np.random.seed(3)\n",
    "w0=np.random.random((11,4))-1\n",
    "w1=np.random.random((4,2))-1\n",
    "w2=np.random.random((2,1))-1\n",
    "\n",
    "b = np.random.random((1,1))"
   ]
  },
  {
   "cell_type": "code",
   "execution_count": 27,
   "metadata": {},
   "outputs": [
    {
     "name": "stdout",
     "output_type": "stream",
     "text": [
      "\n",
      " 100 0.021473422721158302\n",
      "\n",
      " 200 0.02146472785375274\n",
      "\n",
      " 300 0.02146114417608105\n",
      "\n",
      " 400 0.02145919455170342\n",
      "\n",
      " 500 0.021457970317129177\n",
      "\n",
      " 600 0.02145712988702821\n",
      "\n",
      " 700 0.021456516485335215\n",
      "\n",
      " 800 0.021456048170169835\n",
      "\n",
      " 900 0.02145567797980187\n",
      "\n",
      " 1000 0.021455377074104366\n",
      "\n",
      " 1100 0.02145512675780487\n",
      "\n",
      " 1200 0.021454914369662535\n",
      "\n",
      " 1300 0.02145473101582753\n",
      "\n",
      " 1400 0.021454570249297582\n",
      "\n",
      " 1500 0.021454427264306856\n",
      "\n",
      " 1600 0.021454298385018337\n",
      "\n",
      " 1700 0.021454180729409376\n",
      "\n",
      " 1800 0.021454071981011416\n",
      "\n",
      " 1900 0.021453970228840137\n",
      "\n",
      " 2000 0.021453873851237922\n",
      "\n",
      " 2100 0.021453781428171833\n",
      "\n",
      " 2200 0.021453691671684275\n",
      "\n",
      " 2300 0.02145360336719558\n",
      "\n",
      " 2400 0.02145351532000662\n",
      "\n",
      " 2500 0.02145342630205054\n",
      "\n",
      " 2600 0.021453334993848883\n",
      "\n",
      " 2700 0.021453239915696237\n",
      "\n",
      " 2800 0.02145313934006569\n",
      "\n",
      " 2900 0.02145303117350903\n",
      "\n",
      " 3000 0.021452912789763363\n",
      "\n",
      " 3100 0.02145278078410906\n",
      "\n",
      " 3200 0.021452630597715395\n",
      "\n",
      " 3300 0.021452455920264398\n",
      "\n",
      " 3400 0.021452247698606427\n",
      "\n",
      " 3500 0.021451992409304604\n",
      "\n",
      " 3600 0.02145166886869664\n",
      "\n",
      " 3700 0.021451241907939195\n",
      "\n",
      " 3800 0.021450648648198345\n",
      "\n",
      " 3900 0.02144976495402181\n",
      "\n",
      " 4000 0.021448308637200365\n",
      "\n",
      " 4100 0.021445480151135895\n",
      "\n",
      " 4200 0.021437874520025255\n",
      "\n",
      " 4300 0.021375754440656595\n",
      "\n",
      " 4400 0.016725952900277903\n",
      "\n",
      " 4500 0.016914414950409885\n",
      "\n",
      " 4600 0.016739629913651653\n",
      "\n",
      " 4700 0.01616720722298365\n",
      "\n",
      " 4800 0.01613628069670448\n",
      "\n",
      " 4900 0.01616408358021863\n",
      "\n",
      " 5000 0.016140023101371397\n",
      "\n",
      " 5100 0.016104554204037176\n",
      "\n",
      " 5200 0.016064825379339436\n",
      "\n",
      " 5300 0.016026379966838068\n",
      "\n",
      " 5400 0.015993447417787868\n",
      "\n",
      " 5500 0.015967356728983778\n",
      "\n",
      " 5600 0.01594715015036777\n",
      "\n",
      " 5700 0.01592974639211585\n",
      "\n",
      " 5800 0.01590976920769671\n",
      "\n",
      " 5900 0.015880950583829784\n",
      "\n",
      " 6000 0.015839595906430907\n",
      "\n",
      " 6100 0.0157867276702682\n",
      "\n",
      " 6200 0.015726493683640413\n",
      "\n",
      " 6300 0.015663346860701206\n",
      "\n",
      " 6400 0.015600397622605502\n",
      "\n",
      " 6500 0.015539101228116662\n",
      "\n",
      " 6600 0.015479940299773976\n",
      "\n",
      " 6700 0.01542318042662724\n",
      "\n",
      " 6800 0.015369075881609023\n",
      "\n",
      " 6900 0.015317785752051588\n",
      "\n",
      " 7000 0.015269327606138626\n",
      "\n",
      " 7100 0.0152236112338125\n",
      "\n",
      " 7200 0.015180493116260357\n",
      "\n",
      " 7300 0.015139816154612042\n",
      "\n",
      " 7400 0.015101429896555003\n",
      "\n",
      " 7500 0.015065197564632083\n",
      "\n",
      " 7600 0.015030996380888022\n",
      "\n",
      " 7700 0.014998715267473576\n",
      "\n",
      " 7800 0.01496825198985168\n",
      "\n",
      " 7900 0.014939510626068889\n",
      "\n",
      " 8000 0.014912399650133147\n",
      "\n",
      " 8100 0.014886830649030926\n",
      "\n",
      " 8200 0.014862717586151441\n",
      "\n",
      " 8300 0.01483997649054282\n",
      "\n",
      " 8400 0.014818525449439214\n",
      "\n",
      " 8500 0.014798284793135663\n",
      "\n",
      " 8600 0.014779177379501704\n",
      "\n",
      " 8700 0.014761128906675499\n",
      "\n",
      " 8800 0.014744068204002944\n",
      "\n",
      " 8900 0.014727927470744\n",
      "\n",
      " 9000 0.01471264244788929\n",
      "\n",
      " 9100 0.014698152519996956\n",
      "\n",
      " 9200 0.014684400751467494\n",
      "\n",
      " 9300 0.014671333865825077\n",
      "\n",
      " 9400 0.014658902178249668\n",
      "\n",
      " 9500 0.014647059491650448\n",
      "\n",
      " 9600 0.014635762965672686\n",
      "\n",
      " 9700 0.014624972966688975\n",
      "\n",
      " 9800 0.014614652905369828\n",
      "\n",
      " 9900 0.014604769067051833\n"
     ]
    }
   ],
   "source": [
    "for i in range(epochs):\n",
    "    layer0,layer1,layer2,layer3=feed_forward(x_train,w0,w1,w2,b)\n",
    "    w0,w1,w2,b=back_propogation(i,layer0,layer1,layer2,layer3,y_train,w0,w1,w2,b,0.05)"
   ]
  },
  {
   "cell_type": "code",
   "execution_count": 28,
   "metadata": {},
   "outputs": [
    {
     "data": {
      "text/plain": [
       "[<matplotlib.lines.Line2D at 0x16fb8f12e48>]"
      ]
     },
     "execution_count": 28,
     "metadata": {},
     "output_type": "execute_result"
    },
    {
     "data": {
      "image/png": "[encoded data removed]",
      "text/plain": [
       "<Figure size 432x288 with 1 Axes>"
      ]
     },
     "metadata": {
      "needs_background": "light"
     },
     "output_type": "display_data"
    }
   ],
   "source": [
    "plt.plot(iters, loss_curve, 'b.')"
   ]
  },
  {
   "cell_type": "code",
   "execution_count": 29,
   "metadata": {},
   "outputs": [
    {
     "data": {
      "text/plain": [
       "0.13033776874250558"
      ]
     },
     "execution_count": 29,
     "metadata": {},
     "output_type": "execute_result"
    }
   ],
   "source": [
    "layer0,layer1,layer2,layer3=feed_forward(x_test,w0,w1,w2,b)\n",
    "loss=np.mean(np.power(layer3-y_test,2))\n",
    "np.sqrt(loss)"
   ]
  },
  {
   "cell_type": "code",
   "execution_count": 31,
   "metadata": {},
   "outputs": [],
   "source": [
    "error = 0.014604769067051833"
   ]
  },
  {
   "cell_type": "code",
   "execution_count": 33,
   "metadata": {},
   "outputs": [
    {
     "data": {
      "text/plain": [
       "0.12085019266452095"
      ]
     },
     "execution_count": 33,
     "metadata": {},
     "output_type": "execute_result"
    }
   ],
   "source": [
    "rmse = np.sqrt(error)\n",
    "rmse"
   ]
  },
  {
   "cell_type": "code",
   "execution_count": null,
   "metadata": {},
   "outputs": [],
   "source": []
  }
 ],
 "metadata": {
  "kernelspec": {
   "display_name": "Python 3",
   "language": "python",
   "name": "python3"
  },
  "language_info": {
   "codemirror_mode": {
    "name": "ipython",
    "version": 3
   },
   "file_extension": ".py",
   "mimetype": "text/x-python",
   "name": "python",
   "nbconvert_exporter": "python",
   "pygments_lexer": "ipython3",
   "version": "3.6.5"
  }
 },
 "nbformat": 4,
 "nbformat_minor": 2
}
