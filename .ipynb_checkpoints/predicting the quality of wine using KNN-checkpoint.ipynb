{
 "cells": [
  {
   "cell_type": "code",
   "execution_count": null,
   "metadata": {},
   "outputs": [],
   "source": [
    "import numpy as np\n",
    "import pandas as pd\n",
    "import matplotlib.pyplot as plt\n",
    "\n",
    "from sklearn.model_selection import train_test_split\n",
    "\n",
    "%matplotlib inline"
   ]
  },
  {
   "cell_type": "code",
   "execution_count": null,
   "metadata": {},
   "outputs": [],
   "source": [
    "data=pd.read_csv('winequality-white.csv',sep=';')"
   ]
  },
  {
   "cell_type": "code",
   "execution_count": null,
   "metadata": {},
   "outputs": [],
   "source": [
    "data.keys()"
   ]
  },
  {
   "cell_type": "code",
   "execution_count": null,
   "metadata": {},
   "outputs": [],
   "source": [
    "target = data.quality\n",
    "features = data.drop('quality', axis=1)"
   ]
  },
  {
   "cell_type": "code",
   "execution_count": null,
   "metadata": {},
   "outputs": [],
   "source": [
    "df = pd.concat([features,target],axis=1)"
   ]
  },
  {
   "cell_type": "code",
   "execution_count": null,
   "metadata": {},
   "outputs": [],
   "source": [
    "df.head()"
   ]
  },
  {
   "cell_type": "code",
   "execution_count": null,
   "metadata": {},
   "outputs": [],
   "source": [
    "correlation = df.corr('pearson')"
   ]
  },
  {
   "cell_type": "code",
   "execution_count": null,
   "metadata": {},
   "outputs": [],
   "source": [
    "correlation"
   ]
  },
  {
   "cell_type": "code",
   "execution_count": null,
   "metadata": {
    "scrolled": true
   },
   "outputs": [],
   "source": [
    "correlation['quality'].sort_values()"
   ]
  },
  {
   "cell_type": "code",
   "execution_count": null,
   "metadata": {},
   "outputs": [],
   "source": [
    "features = (features - features.min())/(features.max() - features.min())"
   ]
  },
  {
   "cell_type": "code",
   "execution_count": null,
   "metadata": {},
   "outputs": [],
   "source": [
    "xtrain, xtest, ytrain, ytest = train_test_split(features, target, test_size = 0.2)"
   ]
  },
  {
   "cell_type": "code",
   "execution_count": null,
   "metadata": {},
   "outputs": [],
   "source": [
    "f1 = 'alcohol'\n",
    "f2 = 'pH'\n",
    "f3 = 'sulphates'\n",
    "\n",
    "basex = np.array(xtrain[[f1,f2,f3]])\n",
    "basey = np.array(ytrain[\"quality\"])\n",
    "\n",
    "testx = np.array(xtest[[f1,f2,f3]])\n",
    "testy = np.array(ytest['quality'])"
   ]
  },
  {
   "cell_type": "code",
   "execution_count": 13,
   "metadata": {},
   "outputs": [
    {
     "data": {
      "text/plain": [
       "(124, 3)"
      ]
     },
     "execution_count": 13,
     "metadata": {},
     "output_type": "execute_result"
    }
   ],
   "source": [
    "basex.shape"
   ]
  },
  {
   "cell_type": "code",
   "execution_count": 14,
   "metadata": {},
   "outputs": [
    {
     "data": {
      "text/plain": [
       "(124,)"
      ]
     },
     "execution_count": 14,
     "metadata": {},
     "output_type": "execute_result"
    }
   ],
   "source": [
    "basey.shape"
   ]
  },
  {
   "cell_type": "code",
   "execution_count": 15,
   "metadata": {},
   "outputs": [],
   "source": [
    "k = int(np.sqrt(len(basey)))"
   ]
  },
  {
   "cell_type": "code",
   "execution_count": 16,
   "metadata": {},
   "outputs": [
    {
     "data": {
      "text/plain": [
       "11"
      ]
     },
     "execution_count": 16,
     "metadata": {},
     "output_type": "execute_result"
    }
   ],
   "source": [
    "k"
   ]
  },
  {
   "cell_type": "code",
   "execution_count": 17,
   "metadata": {},
   "outputs": [
    {
     "data": {
      "text/plain": [
       "array([[0.62869198, 0.6959707 , 0.67931034],\n",
       "       [0.40295359, 0.74358974, 0.50689655],\n",
       "       [0.08860759, 0.12820513, 0.32758621],\n",
       "       [0.2742616 , 0.42857143, 0.52413793],\n",
       "       [0.19198312, 0.00732601, 0.18275862],\n",
       "       [0.61814346, 0.6007326 , 0.6       ],\n",
       "       [0.37341772, 0.77289377, 0.54482759],\n",
       "       [0.49578059, 0.58608059, 0.49655172],\n",
       "       [0.75738397, 0.56776557, 0.8       ],\n",
       "       [0.66455696, 0.7985348 , 0.98965517],\n",
       "       [0.09704641, 0.28571429, 0.35172414],\n",
       "       [0.08860759, 0.12087912, 0.36896552],\n",
       "       [0.48312236, 0.63369963, 0.57241379],\n",
       "       [0.07594937, 0.16117216, 0.24137931],\n",
       "       [0.44092827, 0.45421245, 0.50689655],\n",
       "       [0.47890295, 0.93406593, 0.53448276],\n",
       "       [0.07594937, 0.17582418, 0.14137931],\n",
       "       [0.15822785, 0.03296703, 0.05862069],\n",
       "       [0.03164557, 0.20512821, 0.09310345],\n",
       "       [0.40084388, 0.42857143, 0.39655172],\n",
       "       [0.60970464, 0.57509158, 0.69655172],\n",
       "       [1.        , 0.88644689, 0.75862069],\n",
       "       [0.54008439, 0.70695971, 0.55862069],\n",
       "       [0.55696203, 0.80586081, 0.59310345],\n",
       "       [0.71940928, 0.54945055, 0.87586207],\n",
       "       [0.19198312, 0.31135531, 0.22413793],\n",
       "       [0.48734177, 0.73626374, 0.55862069],\n",
       "       [0.62236287, 0.77289377, 0.74827586],\n",
       "       [0.0464135 , 0.2014652 , 0.29310345],\n",
       "       [0.51476793, 0.64468864, 0.68275862],\n",
       "       [0.26160338, 0.53113553, 0.35172414],\n",
       "       [0.29957806, 0.42124542, 0.13793103],\n",
       "       [0.02953586, 0.2014652 , 0.22068966],\n",
       "       [0.1814346 , 0.00732601, 0.24827586],\n",
       "       [0.10337553, 0.08791209, 0.28275862],\n",
       "       [0.53164557, 0.69230769, 0.67931034],\n",
       "       [0.45991561, 0.84615385, 0.52413793],\n",
       "       [0.19831224, 0.65934066, 0.3       ],\n",
       "       [0.38607595, 0.61904762, 0.43103448],\n",
       "       [0.20675105, 0.45787546, 0.25517241],\n",
       "       [0.41983122, 0.84981685, 0.57586207],\n",
       "       [0.03375527, 0.38095238, 0.19310345],\n",
       "       [0.06540084, 0.21611722, 0.24827586],\n",
       "       [0.35654008, 0.6959707 , 0.23103448],\n",
       "       [0.20464135, 0.25274725, 0.62758621],\n",
       "       [0.48523207, 0.52014652, 0.48965517],\n",
       "       [0.08649789, 0.10622711, 0.28275862],\n",
       "       [0.12236287, 0.10622711, 0.24827586],\n",
       "       [0.4556962 , 0.53846154, 0.54137931],\n",
       "       [0.10548523, 0.19413919, 0.19655172],\n",
       "       [0.06751055, 0.17582418, 0.17241379],\n",
       "       [0.35654008, 0.44322344, 0.33448276],\n",
       "       [0.59704641, 0.89377289, 0.69655172],\n",
       "       [0.3185654 , 0.38095238, 0.31724138],\n",
       "       [0.37763713, 0.67765568, 0.42068966],\n",
       "       [0.26582278, 0.75457875, 0.34482759],\n",
       "       [0.26371308, 0.27106227, 0.23103448],\n",
       "       [0.3164557 , 0.55311355, 0.31034483],\n",
       "       [0.56751055, 0.76556777, 0.59310345],\n",
       "       [0.        , 0.02197802, 0.        ],\n",
       "       [0.1371308 , 0.36263736, 0.2137931 ],\n",
       "       [0.07383966, 0.10622711, 0.21034483],\n",
       "       [0.23628692, 0.28937729, 0.13793103],\n",
       "       [0.05696203, 0.17216117, 0.24137931],\n",
       "       [0.05485232, 0.30769231, 0.23103448],\n",
       "       [0.58227848, 0.58608059, 0.86896552],\n",
       "       [0.25949367, 0.31868132, 0.21724138],\n",
       "       [0.43670886, 0.82417582, 0.49310345],\n",
       "       [0.21518987, 0.54945055, 0.16206897],\n",
       "       [0.61392405, 0.52747253, 0.69655172],\n",
       "       [0.05485232, 0.15384615, 0.27931034],\n",
       "       [0.20253165, 0.24175824, 0.53448276],\n",
       "       [0.70675105, 0.53479853, 0.73103448],\n",
       "       [0.3164557 , 0.74358974, 0.24137931],\n",
       "       [0.40506329, 0.61904762, 0.70344828],\n",
       "       [0.05485232, 0.32234432, 0.46206897],\n",
       "       [0.35654008, 0.45054945, 0.26551724],\n",
       "       [0.02742616, 0.        , 0.13793103],\n",
       "       [0.22151899, 0.02197802, 0.14827586],\n",
       "       [0.53586498, 1.        , 0.56206897],\n",
       "       [0.50632911, 0.63369963, 0.67931034],\n",
       "       [0.16033755, 0.18681319, 0.55862069],\n",
       "       [0.49367089, 0.55311355, 0.55862069],\n",
       "       [0.39029536, 0.54945055, 0.48965517],\n",
       "       [0.42827004, 0.86446886, 0.51724138],\n",
       "       [0.407173  , 0.55311355, 0.54137931],\n",
       "       [0.28481013, 0.54212454, 0.33448276],\n",
       "       [0.19198312, 0.50549451, 0.16206897],\n",
       "       [0.49367089, 0.70695971, 0.56896552],\n",
       "       [0.37974684, 0.68131868, 0.82758621],\n",
       "       [0.59704641, 0.79487179, 0.78275862],\n",
       "       [0.04852321, 0.2014652 , 0.34482759],\n",
       "       [0.39451477, 0.66300366, 0.42068966],\n",
       "       [0.05063291, 0.08791209, 0.35172414],\n",
       "       [0.0443038 , 0.15018315, 0.17931034],\n",
       "       [0.10337553, 0.13553114, 0.28275862],\n",
       "       [0.44514768, 0.55311355, 0.42758621],\n",
       "       [0.26371308, 0.71062271, 0.42068966],\n",
       "       [0.5443038 , 0.54212454, 0.61034483],\n",
       "       [0.60126582, 0.58974359, 0.64827586],\n",
       "       [0.54219409, 0.58974359, 0.64482759],\n",
       "       [0.092827  , 0.26739927, 0.13793103],\n",
       "       [0.67932489, 0.83882784, 0.78275862],\n",
       "       [0.29746835, 0.35164835, 0.3137931 ],\n",
       "       [0.05063291, 0.16849817, 0.31724138],\n",
       "       [0.18565401, 0.05494505, 0.11034483],\n",
       "       [0.06118143, 0.07692308, 0.26206897],\n",
       "       [0.61181435, 0.6959707 , 0.62758621],\n",
       "       [0.33333333, 0.84249084, 0.42068966],\n",
       "       [0.07172996, 0.15018315, 0.12758621],\n",
       "       [0.06751055, 0.11355311, 0.22068966],\n",
       "       [0.51687764, 0.77655678, 0.66206897],\n",
       "       [0.24472574, 0.36630037, 0.2137931 ],\n",
       "       [0.56118143, 0.74725275, 0.76551724],\n",
       "       [0.48734177, 0.67032967, 0.56551724],\n",
       "       [0.2742616 , 0.65201465, 0.35172414],\n",
       "       [0.48734177, 0.75457875, 0.64482759],\n",
       "       [0.2257384 , 0.11721612, 0.35862069],\n",
       "       [0.35232068, 0.38095238, 0.51724138],\n",
       "       [0.19831224, 0.02197802, 0.42068966],\n",
       "       [0.07172996, 0.12820513, 0.23103448],\n",
       "       [0.03797468, 0.28937729, 0.19655172],\n",
       "       [0.44092827, 0.56776557, 0.42068966],\n",
       "       [0.26793249, 0.71062271, 0.32413793]])"
      ]
     },
     "execution_count": 17,
     "metadata": {},
     "output_type": "execute_result"
    }
   ],
   "source": [
    "basex"
   ]
  },
  {
   "cell_type": "code",
   "execution_count": 18,
   "metadata": {},
   "outputs": [],
   "source": [
    "def euclidean_distance(train_point, test_point):\n",
    "    distance = np.sum((train_point - test_point)**2)\n",
    "    \n",
    "    return np.sqrt(distance)"
   ]
  },
  {
   "cell_type": "code",
   "execution_count": 19,
   "metadata": {},
   "outputs": [],
   "source": [
    "def calc_distance_from_all(all_points, given_point, predictions):\n",
    "    all_distances = []\n",
    "    \n",
    "    for i, each in enumerate(all_points):\n",
    "        distance = euclidean_distance(each, given_point)\n",
    "        \n",
    "        all_distances.append((distance, int(predictions[i])))\n",
    "        \n",
    "    all_distances.sort(key=lambda tup: tup[0])\n",
    "    \n",
    "    return all_distances"
   ]
  },
  {
   "cell_type": "code",
   "execution_count": 20,
   "metadata": {},
   "outputs": [],
   "source": [
    "def get_neighbours(distances,count):\n",
    "    return distances[:count]"
   ]
  },
  {
   "cell_type": "code",
   "execution_count": 21,
   "metadata": {},
   "outputs": [],
   "source": [
    "def predict(all_points, given_point, predictions, k):\n",
    "    distances = calc_distance_from_all(all_points, given_point, predictions)\n",
    "    neighbours = get_neighbours(distances, k)\n",
    "    \n",
    "    op = [row[-1] for row in neighbours]\n",
    "    prediction = max(set(op),key = op.count)\n",
    "    \n",
    "    return prediction"
   ]
  },
  {
   "cell_type": "code",
   "execution_count": 22,
   "metadata": {},
   "outputs": [],
   "source": [
    "def accuracy(x, y, testx, testy):\n",
    "    correct = 0\n",
    "    for i in range(len(testx)):\n",
    "        p = predict(basex, testx[i], basey,11)\n",
    "        \n",
    "        if p==testy[i]:\n",
    "            correct += 1\n",
    "            \n",
    "    return f\"Accuracy: {correct*100/len(testy)}\"\n"
   ]
  },
  {
   "cell_type": "code",
   "execution_count": 23,
   "metadata": {},
   "outputs": [],
   "source": [
    "test1 = [testx[0][0], testx[1][0]]"
   ]
  },
  {
   "cell_type": "code",
   "execution_count": 24,
   "metadata": {},
   "outputs": [
    {
     "data": {
      "text/plain": [
       "[0.6751054852320675, 0.5928270042194093]"
      ]
     },
     "execution_count": 24,
     "metadata": {},
     "output_type": "execute_result"
    }
   ],
   "source": [
    "test1"
   ]
  },
  {
   "cell_type": "code",
   "execution_count": 25,
   "metadata": {},
   "outputs": [
    {
     "data": {
      "text/plain": [
       "'Accuracy: 74.07407407407408'"
      ]
     },
     "execution_count": 25,
     "metadata": {},
     "output_type": "execute_result"
    }
   ],
   "source": [
    "accuracy(basex,basey,testx,testy)"
   ]
  },
  {
   "cell_type": "code",
   "execution_count": null,
   "metadata": {},
   "outputs": [],
   "source": []
  }
 ],
 "metadata": {
  "kernelspec": {
   "display_name": "Python 3",
   "language": "python",
   "name": "python3"
  },
  "language_info": {
   "codemirror_mode": {
    "name": "ipython",
    "version": 3
   },
   "file_extension": ".py",
   "mimetype": "text/x-python",
   "name": "python",
   "nbconvert_exporter": "python",
   "pygments_lexer": "ipython3",
   "version": "3.7.1"
  }
 },
 "nbformat": 4,
 "nbformat_minor": 2
}
